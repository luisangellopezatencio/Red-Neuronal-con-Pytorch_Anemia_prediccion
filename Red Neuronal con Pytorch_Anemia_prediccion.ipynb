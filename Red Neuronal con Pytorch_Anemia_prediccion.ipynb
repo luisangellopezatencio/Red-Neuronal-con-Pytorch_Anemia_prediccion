{
 "cells": [
  {
   "cell_type": "markdown",
   "id": "5f91f75f",
   "metadata": {},
   "source": [
    "# Anemia\n",
    "Es un trastorno sanguíneo en el que la sangre tiene una capacidad reducida para transportar oxígeno debido a una cantidad de glóbulos rojos inferior a la normal o a una reducción en la cantidad de hemoglobina."
   ]
  },
  {
   "cell_type": "markdown",
   "id": "ce0cb4b7",
   "metadata": {},
   "source": [
    "Género: 0 - masculino, 1 - femenino \n",
    "Hemoglobina: la hemoglobina es una proteína en sus glóbulos rojos que transporta oxígeno a los órganos y tejidos de su cuerpo y transporta dióxido de carbono desde sus órganos y tejidos de regreso a sus pulmones. MCH: \n",
    "MCH es la abreviatura de \"hemoglobina corpuscular media\". Es la cantidad promedio en cada uno de sus glóbulos rojos de una proteína llamada hemoglobina, que transporta oxígeno por todo el cuerpo. \n",
    "MCHC: MCHC significa concentración de hemoglobina corpuscular media. Es una medida de la concentración promedio de hemoglobina dentro de un solo glóbulo rojo. \n",
    "MCV: MCV significa volumen corpuscular medio. Un análisis de sangre MCV mide el tamaño promedio de sus glóbulos rojos. Resultados: 0- no anémico, 1-anémico"
   ]
  },
  {
   "cell_type": "code",
   "execution_count": 126,
   "id": "413562b4",
   "metadata": {},
   "outputs": [],
   "source": [
    "import numpy as np\n",
    "import pandas as pd\n",
    "import matplotlib.pyplot as plt\n",
    "import seaborn as sb\n",
    "sb.set_theme(style='whitegrid')\n",
    "\n",
    "from sklearn.model_selection import train_test_split\n",
    "from sklearn.preprocessing import StandardScaler\n",
    "from sklearn.metrics import classification_report\n",
    "from sklearn.metrics import confusion_matrix\n",
    "from sklearn.metrics import accuracy_score\n",
    "from sklearn.metrics import recall_score\n",
    "from sklearn.metrics import precision_score\n",
    "from sklearn.metrics import f1_score"
   ]
  },
  {
   "cell_type": "code",
   "execution_count": 17,
   "id": "39f9a035",
   "metadata": {},
   "outputs": [
    {
     "data": {
      "text/html": [
       "<div>\n",
       "<style scoped>\n",
       "    .dataframe tbody tr th:only-of-type {\n",
       "        vertical-align: middle;\n",
       "    }\n",
       "\n",
       "    .dataframe tbody tr th {\n",
       "        vertical-align: top;\n",
       "    }\n",
       "\n",
       "    .dataframe thead th {\n",
       "        text-align: right;\n",
       "    }\n",
       "</style>\n",
       "<table border=\"1\" class=\"dataframe\">\n",
       "  <thead>\n",
       "    <tr style=\"text-align: right;\">\n",
       "      <th></th>\n",
       "      <th>Gender</th>\n",
       "      <th>Hemoglobin</th>\n",
       "      <th>MCH</th>\n",
       "      <th>MCHC</th>\n",
       "      <th>MCV</th>\n",
       "      <th>Result</th>\n",
       "    </tr>\n",
       "  </thead>\n",
       "  <tbody>\n",
       "    <tr>\n",
       "      <th>0</th>\n",
       "      <td>1</td>\n",
       "      <td>14.9</td>\n",
       "      <td>22.7</td>\n",
       "      <td>29.1</td>\n",
       "      <td>83.7</td>\n",
       "      <td>0</td>\n",
       "    </tr>\n",
       "    <tr>\n",
       "      <th>1</th>\n",
       "      <td>0</td>\n",
       "      <td>15.9</td>\n",
       "      <td>25.4</td>\n",
       "      <td>28.3</td>\n",
       "      <td>72.0</td>\n",
       "      <td>0</td>\n",
       "    </tr>\n",
       "    <tr>\n",
       "      <th>2</th>\n",
       "      <td>0</td>\n",
       "      <td>9.0</td>\n",
       "      <td>21.5</td>\n",
       "      <td>29.6</td>\n",
       "      <td>71.2</td>\n",
       "      <td>1</td>\n",
       "    </tr>\n",
       "    <tr>\n",
       "      <th>3</th>\n",
       "      <td>0</td>\n",
       "      <td>14.9</td>\n",
       "      <td>16.0</td>\n",
       "      <td>31.4</td>\n",
       "      <td>87.5</td>\n",
       "      <td>0</td>\n",
       "    </tr>\n",
       "    <tr>\n",
       "      <th>4</th>\n",
       "      <td>1</td>\n",
       "      <td>14.7</td>\n",
       "      <td>22.0</td>\n",
       "      <td>28.2</td>\n",
       "      <td>99.5</td>\n",
       "      <td>0</td>\n",
       "    </tr>\n",
       "    <tr>\n",
       "      <th>5</th>\n",
       "      <td>0</td>\n",
       "      <td>11.6</td>\n",
       "      <td>22.3</td>\n",
       "      <td>30.9</td>\n",
       "      <td>74.5</td>\n",
       "      <td>1</td>\n",
       "    </tr>\n",
       "    <tr>\n",
       "      <th>6</th>\n",
       "      <td>1</td>\n",
       "      <td>12.7</td>\n",
       "      <td>19.5</td>\n",
       "      <td>28.9</td>\n",
       "      <td>82.9</td>\n",
       "      <td>1</td>\n",
       "    </tr>\n",
       "    <tr>\n",
       "      <th>7</th>\n",
       "      <td>1</td>\n",
       "      <td>12.7</td>\n",
       "      <td>28.5</td>\n",
       "      <td>28.2</td>\n",
       "      <td>92.3</td>\n",
       "      <td>1</td>\n",
       "    </tr>\n",
       "    <tr>\n",
       "      <th>8</th>\n",
       "      <td>0</td>\n",
       "      <td>14.1</td>\n",
       "      <td>29.7</td>\n",
       "      <td>30.5</td>\n",
       "      <td>75.2</td>\n",
       "      <td>0</td>\n",
       "    </tr>\n",
       "    <tr>\n",
       "      <th>9</th>\n",
       "      <td>1</td>\n",
       "      <td>14.9</td>\n",
       "      <td>25.8</td>\n",
       "      <td>31.3</td>\n",
       "      <td>82.9</td>\n",
       "      <td>0</td>\n",
       "    </tr>\n",
       "  </tbody>\n",
       "</table>\n",
       "</div>"
      ],
      "text/plain": [
       "   Gender  Hemoglobin   MCH  MCHC   MCV  Result\n",
       "0       1        14.9  22.7  29.1  83.7       0\n",
       "1       0        15.9  25.4  28.3  72.0       0\n",
       "2       0         9.0  21.5  29.6  71.2       1\n",
       "3       0        14.9  16.0  31.4  87.5       0\n",
       "4       1        14.7  22.0  28.2  99.5       0\n",
       "5       0        11.6  22.3  30.9  74.5       1\n",
       "6       1        12.7  19.5  28.9  82.9       1\n",
       "7       1        12.7  28.5  28.2  92.3       1\n",
       "8       0        14.1  29.7  30.5  75.2       0\n",
       "9       1        14.9  25.8  31.3  82.9       0"
      ]
     },
     "execution_count": 17,
     "metadata": {},
     "output_type": "execute_result"
    }
   ],
   "source": [
    "df = pd.read_csv('anemia.csv')\n",
    "df.head(10)"
   ]
  },
  {
   "cell_type": "code",
   "execution_count": 18,
   "id": "ec4691ea",
   "metadata": {},
   "outputs": [
    {
     "data": {
      "text/plain": [
       "Gender        0\n",
       "Hemoglobin    0\n",
       "MCH           0\n",
       "MCHC          0\n",
       "MCV           0\n",
       "Result        0\n",
       "dtype: int64"
      ]
     },
     "execution_count": 18,
     "metadata": {},
     "output_type": "execute_result"
    }
   ],
   "source": [
    "df.isnull().sum()"
   ]
  },
  {
   "cell_type": "code",
   "execution_count": 19,
   "id": "ad73b9f4",
   "metadata": {},
   "outputs": [
    {
     "data": {
      "text/plain": [
       "Gender          int64\n",
       "Hemoglobin    float64\n",
       "MCH           float64\n",
       "MCHC          float64\n",
       "MCV           float64\n",
       "Result          int64\n",
       "dtype: object"
      ]
     },
     "execution_count": 19,
     "metadata": {},
     "output_type": "execute_result"
    }
   ],
   "source": [
    "df.dtypes"
   ]
  },
  {
   "cell_type": "code",
   "execution_count": 20,
   "id": "cb1e05ad",
   "metadata": {},
   "outputs": [
    {
     "data": {
      "text/plain": [
       "Gender        category\n",
       "Hemoglobin     float64\n",
       "MCH            float64\n",
       "MCHC           float64\n",
       "MCV            float64\n",
       "Result        category\n",
       "dtype: object"
      ]
     },
     "execution_count": 20,
     "metadata": {},
     "output_type": "execute_result"
    }
   ],
   "source": [
    "df[['Gender', 'Result']] = df[['Gender', 'Result']].astype('category')\n",
    "df.dtypes"
   ]
  },
  {
   "cell_type": "code",
   "execution_count": 21,
   "id": "732e1677",
   "metadata": {},
   "outputs": [
    {
     "data": {
      "text/html": [
       "<div>\n",
       "<style scoped>\n",
       "    .dataframe tbody tr th:only-of-type {\n",
       "        vertical-align: middle;\n",
       "    }\n",
       "\n",
       "    .dataframe tbody tr th {\n",
       "        vertical-align: top;\n",
       "    }\n",
       "\n",
       "    .dataframe thead th {\n",
       "        text-align: right;\n",
       "    }\n",
       "</style>\n",
       "<table border=\"1\" class=\"dataframe\">\n",
       "  <thead>\n",
       "    <tr style=\"text-align: right;\">\n",
       "      <th></th>\n",
       "      <th>Gender</th>\n",
       "      <th>Hemoglobin</th>\n",
       "      <th>MCH</th>\n",
       "      <th>MCHC</th>\n",
       "      <th>MCV</th>\n",
       "      <th>Result</th>\n",
       "    </tr>\n",
       "  </thead>\n",
       "  <tbody>\n",
       "    <tr>\n",
       "      <th>count</th>\n",
       "      <td>1421.0</td>\n",
       "      <td>1421.0</td>\n",
       "      <td>1421.0</td>\n",
       "      <td>1421.0</td>\n",
       "      <td>1421.0</td>\n",
       "      <td>1421.0</td>\n",
       "    </tr>\n",
       "    <tr>\n",
       "      <th>unique</th>\n",
       "      <td>2.0</td>\n",
       "      <td>NaN</td>\n",
       "      <td>NaN</td>\n",
       "      <td>NaN</td>\n",
       "      <td>NaN</td>\n",
       "      <td>2.0</td>\n",
       "    </tr>\n",
       "    <tr>\n",
       "      <th>top</th>\n",
       "      <td>1.0</td>\n",
       "      <td>NaN</td>\n",
       "      <td>NaN</td>\n",
       "      <td>NaN</td>\n",
       "      <td>NaN</td>\n",
       "      <td>0.0</td>\n",
       "    </tr>\n",
       "    <tr>\n",
       "      <th>freq</th>\n",
       "      <td>740.0</td>\n",
       "      <td>NaN</td>\n",
       "      <td>NaN</td>\n",
       "      <td>NaN</td>\n",
       "      <td>NaN</td>\n",
       "      <td>801.0</td>\n",
       "    </tr>\n",
       "    <tr>\n",
       "      <th>mean</th>\n",
       "      <td>NaN</td>\n",
       "      <td>13.4</td>\n",
       "      <td>22.9</td>\n",
       "      <td>30.3</td>\n",
       "      <td>85.5</td>\n",
       "      <td>NaN</td>\n",
       "    </tr>\n",
       "    <tr>\n",
       "      <th>std</th>\n",
       "      <td>NaN</td>\n",
       "      <td>2.0</td>\n",
       "      <td>4.0</td>\n",
       "      <td>1.4</td>\n",
       "      <td>9.6</td>\n",
       "      <td>NaN</td>\n",
       "    </tr>\n",
       "    <tr>\n",
       "      <th>min</th>\n",
       "      <td>NaN</td>\n",
       "      <td>6.6</td>\n",
       "      <td>16.0</td>\n",
       "      <td>27.8</td>\n",
       "      <td>69.4</td>\n",
       "      <td>NaN</td>\n",
       "    </tr>\n",
       "    <tr>\n",
       "      <th>25%</th>\n",
       "      <td>NaN</td>\n",
       "      <td>11.7</td>\n",
       "      <td>19.4</td>\n",
       "      <td>29.0</td>\n",
       "      <td>77.3</td>\n",
       "      <td>NaN</td>\n",
       "    </tr>\n",
       "    <tr>\n",
       "      <th>50%</th>\n",
       "      <td>NaN</td>\n",
       "      <td>13.2</td>\n",
       "      <td>22.7</td>\n",
       "      <td>30.4</td>\n",
       "      <td>85.3</td>\n",
       "      <td>NaN</td>\n",
       "    </tr>\n",
       "    <tr>\n",
       "      <th>75%</th>\n",
       "      <td>NaN</td>\n",
       "      <td>15.0</td>\n",
       "      <td>26.2</td>\n",
       "      <td>31.4</td>\n",
       "      <td>94.2</td>\n",
       "      <td>NaN</td>\n",
       "    </tr>\n",
       "    <tr>\n",
       "      <th>max</th>\n",
       "      <td>NaN</td>\n",
       "      <td>16.9</td>\n",
       "      <td>30.0</td>\n",
       "      <td>32.5</td>\n",
       "      <td>101.6</td>\n",
       "      <td>NaN</td>\n",
       "    </tr>\n",
       "  </tbody>\n",
       "</table>\n",
       "</div>"
      ],
      "text/plain": [
       "        Gender  Hemoglobin     MCH    MCHC     MCV  Result\n",
       "count   1421.0      1421.0  1421.0  1421.0  1421.0  1421.0\n",
       "unique     2.0         NaN     NaN     NaN     NaN     2.0\n",
       "top        1.0         NaN     NaN     NaN     NaN     0.0\n",
       "freq     740.0         NaN     NaN     NaN     NaN   801.0\n",
       "mean       NaN        13.4    22.9    30.3    85.5     NaN\n",
       "std        NaN         2.0     4.0     1.4     9.6     NaN\n",
       "min        NaN         6.6    16.0    27.8    69.4     NaN\n",
       "25%        NaN        11.7    19.4    29.0    77.3     NaN\n",
       "50%        NaN        13.2    22.7    30.4    85.3     NaN\n",
       "75%        NaN        15.0    26.2    31.4    94.2     NaN\n",
       "max        NaN        16.9    30.0    32.5   101.6     NaN"
      ]
     },
     "execution_count": 21,
     "metadata": {},
     "output_type": "execute_result"
    }
   ],
   "source": [
    "# Descripcion del dataset\n",
    "pd.set_option('display.precision', 1)\n",
    "df.describe(include='all')"
   ]
  },
  {
   "cell_type": "code",
   "execution_count": 22,
   "id": "8dba6e06",
   "metadata": {},
   "outputs": [
    {
     "data": {
      "text/plain": [
       "<AxesSubplot:xlabel='Result', ylabel='count'>"
      ]
     },
     "execution_count": 22,
     "metadata": {},
     "output_type": "execute_result"
    },
    {
     "data": {
      "image/png": "[encoded data removed]",
      "text/plain": [
       "<Figure size 640x480 with 1 Axes>"
      ]
     },
     "metadata": {},
     "output_type": "display_data"
    }
   ],
   "source": [
    "sb.countplot(x=df['Result'])"
   ]
  },
  {
   "cell_type": "code",
   "execution_count": 23,
   "id": "3ac64d66",
   "metadata": {},
   "outputs": [
    {
     "data": {
      "text/plain": [
       "<AxesSubplot:xlabel='Result', ylabel='count'>"
      ]
     },
     "execution_count": 23,
     "metadata": {},
     "output_type": "execute_result"
    },
    {
     "data": {
      "image/png": "[encoded data removed]",
      "text/plain": [
       "<Figure size 640x480 with 1 Axes>"
      ]
     },
     "metadata": {},
     "output_type": "display_data"
    }
   ],
   "source": [
    "sb.countplot(x=df['Result'], hue=df['Gender'])"
   ]
  },
  {
   "cell_type": "code",
   "execution_count": 25,
   "id": "9d937cb1",
   "metadata": {},
   "outputs": [
    {
     "data": {
      "image/png": "[encoded data removed]",
      "text/plain": [
       "<Figure size 1200x1200 with 4 Axes>"
      ]
     },
     "metadata": {},
     "output_type": "display_data"
    }
   ],
   "source": [
    "fig, ax = plt.subplots(2, 2, figsize=(12, 12))\n",
    "sb.histplot(data=df, x=df['Hemoglobin'], hue=df['Result'], kde=True, ax=ax[0,0])\n",
    "sb.histplot(data=df, x=df['MCH'], hue=df['Result'], kde=True, ax=ax[0,1])\n",
    "sb.histplot(data=df, x=df['MCHC'], hue=df['Result'], kde=True, ax=ax[1,0])\n",
    "sb.histplot(data=df, x=df['MCV'], hue=df['Result'], kde=True, ax=ax[1,1])\n",
    "fig.suptitle('Result and the Numetic Features', fontsize=14, y=0.93)\n",
    "plt.show()"
   ]
  },
  {
   "cell_type": "markdown",
   "id": "60babbd1",
   "metadata": {},
   "source": [
    "Se observa que si tengo la hemoglobina demasiado baja es muy probable que sufra de anemia"
   ]
  },
  {
   "cell_type": "code",
   "execution_count": 32,
   "id": "9efa2949",
   "metadata": {},
   "outputs": [
    {
     "data": {
      "text/plain": [
       "0    0\n",
       "1    0\n",
       "2    1\n",
       "3    0\n",
       "4    0\n",
       "Name: Result, dtype: category\n",
       "Categories (2, int64): [0, 1]"
      ]
     },
     "execution_count": 32,
     "metadata": {},
     "output_type": "execute_result"
    }
   ],
   "source": [
    "y = df[df.columns[-1]]\n",
    "y.head()"
   ]
  },
  {
   "cell_type": "code",
   "execution_count": 62,
   "id": "f8783d68",
   "metadata": {},
   "outputs": [
    {
     "data": {
      "text/html": [
       "<div>\n",
       "<style scoped>\n",
       "    .dataframe tbody tr th:only-of-type {\n",
       "        vertical-align: middle;\n",
       "    }\n",
       "\n",
       "    .dataframe tbody tr th {\n",
       "        vertical-align: top;\n",
       "    }\n",
       "\n",
       "    .dataframe thead th {\n",
       "        text-align: right;\n",
       "    }\n",
       "</style>\n",
       "<table border=\"1\" class=\"dataframe\">\n",
       "  <thead>\n",
       "    <tr style=\"text-align: right;\">\n",
       "      <th></th>\n",
       "      <th>Gender</th>\n",
       "      <th>Hemoglobin</th>\n",
       "      <th>MCH</th>\n",
       "      <th>MCHC</th>\n",
       "      <th>MCV</th>\n",
       "    </tr>\n",
       "  </thead>\n",
       "  <tbody>\n",
       "    <tr>\n",
       "      <th>0</th>\n",
       "      <td>1</td>\n",
       "      <td>14.9</td>\n",
       "      <td>22.7</td>\n",
       "      <td>29.1</td>\n",
       "      <td>83.7</td>\n",
       "    </tr>\n",
       "    <tr>\n",
       "      <th>1</th>\n",
       "      <td>0</td>\n",
       "      <td>15.9</td>\n",
       "      <td>25.4</td>\n",
       "      <td>28.3</td>\n",
       "      <td>72.0</td>\n",
       "    </tr>\n",
       "    <tr>\n",
       "      <th>2</th>\n",
       "      <td>0</td>\n",
       "      <td>9.0</td>\n",
       "      <td>21.5</td>\n",
       "      <td>29.6</td>\n",
       "      <td>71.2</td>\n",
       "    </tr>\n",
       "    <tr>\n",
       "      <th>3</th>\n",
       "      <td>0</td>\n",
       "      <td>14.9</td>\n",
       "      <td>16.0</td>\n",
       "      <td>31.4</td>\n",
       "      <td>87.5</td>\n",
       "    </tr>\n",
       "    <tr>\n",
       "      <th>4</th>\n",
       "      <td>1</td>\n",
       "      <td>14.7</td>\n",
       "      <td>22.0</td>\n",
       "      <td>28.2</td>\n",
       "      <td>99.5</td>\n",
       "    </tr>\n",
       "    <tr>\n",
       "      <th>...</th>\n",
       "      <td>...</td>\n",
       "      <td>...</td>\n",
       "      <td>...</td>\n",
       "      <td>...</td>\n",
       "      <td>...</td>\n",
       "    </tr>\n",
       "    <tr>\n",
       "      <th>1416</th>\n",
       "      <td>0</td>\n",
       "      <td>10.6</td>\n",
       "      <td>25.4</td>\n",
       "      <td>28.2</td>\n",
       "      <td>82.9</td>\n",
       "    </tr>\n",
       "    <tr>\n",
       "      <th>1417</th>\n",
       "      <td>1</td>\n",
       "      <td>12.1</td>\n",
       "      <td>28.3</td>\n",
       "      <td>30.4</td>\n",
       "      <td>86.9</td>\n",
       "    </tr>\n",
       "    <tr>\n",
       "      <th>1418</th>\n",
       "      <td>1</td>\n",
       "      <td>13.1</td>\n",
       "      <td>17.7</td>\n",
       "      <td>28.1</td>\n",
       "      <td>80.7</td>\n",
       "    </tr>\n",
       "    <tr>\n",
       "      <th>1419</th>\n",
       "      <td>0</td>\n",
       "      <td>14.3</td>\n",
       "      <td>16.2</td>\n",
       "      <td>29.5</td>\n",
       "      <td>95.2</td>\n",
       "    </tr>\n",
       "    <tr>\n",
       "      <th>1420</th>\n",
       "      <td>0</td>\n",
       "      <td>11.8</td>\n",
       "      <td>21.2</td>\n",
       "      <td>28.4</td>\n",
       "      <td>98.1</td>\n",
       "    </tr>\n",
       "  </tbody>\n",
       "</table>\n",
       "<p>1421 rows × 5 columns</p>\n",
       "</div>"
      ],
      "text/plain": [
       "     Gender  Hemoglobin   MCH  MCHC   MCV\n",
       "0         1        14.9  22.7  29.1  83.7\n",
       "1         0        15.9  25.4  28.3  72.0\n",
       "2         0         9.0  21.5  29.6  71.2\n",
       "3         0        14.9  16.0  31.4  87.5\n",
       "4         1        14.7  22.0  28.2  99.5\n",
       "...     ...         ...   ...   ...   ...\n",
       "1416      0        10.6  25.4  28.2  82.9\n",
       "1417      1        12.1  28.3  30.4  86.9\n",
       "1418      1        13.1  17.7  28.1  80.7\n",
       "1419      0        14.3  16.2  29.5  95.2\n",
       "1420      0        11.8  21.2  28.4  98.1\n",
       "\n",
       "[1421 rows x 5 columns]"
      ]
     },
     "execution_count": 62,
     "metadata": {},
     "output_type": "execute_result"
    }
   ],
   "source": [
    "X = df.drop(columns = ['Result'])\n",
    "X"
   ]
  },
  {
   "cell_type": "markdown",
   "id": "7bcbb8e1",
   "metadata": {},
   "source": [
    "### Escaldo de datos"
   ]
  },
  {
   "cell_type": "code",
   "execution_count": 63,
   "id": "1bcd12b2",
   "metadata": {},
   "outputs": [
    {
     "name": "stdout",
     "output_type": "stream",
     "text": [
      "[[ 0.95930718  0.75348274 -0.05182232 -0.82207061 -0.18932081]\n",
      " [-1.04241896  1.26010665  0.62862494 -1.39333406 -1.40385665]\n",
      " [-1.04241896 -2.23559834 -0.35424332 -0.46503096 -1.48690183]\n",
      " ...\n",
      " [ 0.95930718 -0.1584403  -1.31190984 -1.53614992 -0.50074026]\n",
      " [-1.04241896  0.44950839 -1.68993609 -0.53643889  1.00445372]\n",
      " [-1.04241896 -0.81705139 -0.42984857 -1.32192613  1.30549252]]\n"
     ]
    }
   ],
   "source": [
    "escalador = StandardScaler()\n",
    "X = escalador.fit_transform(X)\n",
    "print(X)"
   ]
  },
  {
   "cell_type": "code",
   "execution_count": 64,
   "id": "fc6f9ac2",
   "metadata": {},
   "outputs": [
    {
     "data": {
      "text/plain": [
       "1421"
      ]
     },
     "execution_count": 64,
     "metadata": {},
     "output_type": "execute_result"
    }
   ],
   "source": [
    "X.shape[0]"
   ]
  },
  {
   "cell_type": "markdown",
   "id": "b252b224",
   "metadata": {},
   "source": [
    "### Dividir entre datos de entrenamiento y test"
   ]
  },
  {
   "cell_type": "code",
   "execution_count": 65,
   "id": "11e3cfb7",
   "metadata": {},
   "outputs": [],
   "source": [
    "from sklearn.model_selection import train_test_split\n",
    "X_train, X_test, y_train, y_test = train_test_split(X, y, test_size = 0.2, random_state = 2)"
   ]
  },
  {
   "cell_type": "code",
   "execution_count": 66,
   "id": "e15de178",
   "metadata": {},
   "outputs": [
    {
     "data": {
      "text/plain": [
       "dtype('float64')"
      ]
     },
     "execution_count": 66,
     "metadata": {},
     "output_type": "execute_result"
    }
   ],
   "source": [
    "y = y.astype(float)\n",
    "y.dtypes"
   ]
  },
  {
   "cell_type": "code",
   "execution_count": 67,
   "id": "86ab7d15",
   "metadata": {},
   "outputs": [
    {
     "name": "stdout",
     "output_type": "stream",
     "text": [
      "X Train: (1136, 5), X Test: (285, 5), y_train: (1136,), y_test: (285,)\n"
     ]
    }
   ],
   "source": [
    "print(\"X Train: {}, X Test: {}, y_train: {}, y_test: {}\".format(X_train.shape, X_test.shape, y_train.shape, y_test.shape))"
   ]
  },
  {
   "cell_type": "code",
   "execution_count": 68,
   "id": "4d180019",
   "metadata": {},
   "outputs": [
    {
     "data": {
      "text/plain": [
       "5"
      ]
     },
     "execution_count": 68,
     "metadata": {},
     "output_type": "execute_result"
    }
   ],
   "source": [
    "n_entradas = X_train.shape[1]\n",
    "n_entradas"
   ]
  },
  {
   "cell_type": "markdown",
   "id": "0e24c5ce",
   "metadata": {},
   "source": [
    "### Tensores"
   ]
  },
  {
   "cell_type": "code",
   "execution_count": 70,
   "id": "6c746764",
   "metadata": {},
   "outputs": [],
   "source": [
    "import torch\n",
    "import torch.nn as nn\n",
    "import torch.nn.functional as F\n",
    "from torch.utils.data import random_split, TensorDataset"
   ]
  },
  {
   "cell_type": "code",
   "execution_count": 105,
   "id": "a0b70039",
   "metadata": {},
   "outputs": [],
   "source": [
    "t_X_train = torch.from_numpy(X_train).float().to(\"cpu\") #MPS\n",
    "t_X_test = torch.from_numpy(X_test).float().to(\"cpu\")\n",
    "t_y_train = torch.from_numpy(y_train.values).float().to(\"cpu\")\n",
    "t_y_test = torch.from_numpy(y_test.values).float().to(\"cpu\")\n",
    "t_y_train = t_y_train[:,None] #Agregar una dimension\n",
    "t_y_test = t_y_test[:, None]#Agregar una dimension"
   ]
  },
  {
   "cell_type": "code",
   "execution_count": 106,
   "id": "bea8c9c9",
   "metadata": {},
   "outputs": [
    {
     "name": "stdout",
     "output_type": "stream",
     "text": [
      "(tensor([ 0.9593, -0.0571, -1.3371,  1.5344,  1.6584]), tensor([1.]))\n"
     ]
    }
   ],
   "source": [
    "test = TensorDataset(t_X_test, t_y_test)\n",
    "print(test[0])"
   ]
  },
  {
   "cell_type": "code",
   "execution_count": 107,
   "id": "5411b041",
   "metadata": {},
   "outputs": [
    {
     "name": "stdout",
     "output_type": "stream",
     "text": [
      "(tensor([ 0.9593, -0.1584, -0.1778,  0.8917,  0.1844]), tensor([1.]))\n"
     ]
    }
   ],
   "source": [
    "print(test[284])"
   ]
  },
  {
   "cell_type": "code",
   "execution_count": 108,
   "id": "d0610a48",
   "metadata": {},
   "outputs": [
    {
     "data": {
      "text/plain": [
       "tensor([[0.],\n",
       "        [1.],\n",
       "        [1.],\n",
       "        ...,\n",
       "        [1.],\n",
       "        [0.],\n",
       "        [0.]])"
      ]
     },
     "execution_count": 108,
     "metadata": {},
     "output_type": "execute_result"
    }
   ],
   "source": [
    "t_y_train"
   ]
  },
  {
   "cell_type": "markdown",
   "id": "09050ccd",
   "metadata": {},
   "source": [
    "### Construir la red Neuronal"
   ]
  },
  {
   "cell_type": "code",
   "execution_count": 109,
   "id": "f4afc577",
   "metadata": {},
   "outputs": [],
   "source": [
    "class Perceptron(nn.Module):\n",
    "    \n",
    "    def __init__(self, n_entradas):\n",
    "        super(Perceptron, self).__init__()\n",
    "        self.linear1 = nn.Linear(n_entradas, 20)\n",
    "        self.linear2 = nn.Linear(20, 15)\n",
    "        self.linear3 = nn.Linear(15, 7)\n",
    "        self.linear4 = nn.Linear(7, 1)\n",
    "        \n",
    "    def forward(self, inputs):\n",
    "        pred_1 = torch.relu(input=self.linear1(inputs))\n",
    "        pred_2 = torch.relu(input = self.linear2(pred_1))\n",
    "        pred_3 = torch.sigmoid(input = self.linear3(pred_2))\n",
    "        pred_f = torch.sigmoid(input = self.linear4(pred_3))\n",
    "        return pred_f"
   ]
  },
  {
   "cell_type": "code",
   "execution_count": 111,
   "id": "667f5660",
   "metadata": {},
   "outputs": [
    {
     "name": "stdout",
     "output_type": "stream",
     "text": [
      "Arquitectura del modelo: Perceptron(\n",
      "  (linear1): Linear(in_features=5, out_features=20, bias=True)\n",
      "  (linear2): Linear(in_features=20, out_features=15, bias=True)\n",
      "  (linear3): Linear(in_features=15, out_features=7, bias=True)\n",
      "  (linear4): Linear(in_features=7, out_features=1, bias=True)\n",
      ")\n",
      "Entranando el modelo\n",
      "\n",
      "Epoch 100 \t Loss: 0.5459\n",
      "Accuracy: 84.21052551269531\n",
      "\n",
      "Epoch 200 \t Loss: 0.2575\n",
      "Accuracy: 98.59648895263672\n",
      "\n",
      "Epoch 300 \t Loss: 0.1611\n",
      "Accuracy: 99.29824829101562\n",
      "\n",
      "Epoch 400 \t Loss: 0.1152\n",
      "Accuracy: 99.64912414550781\n",
      "\n",
      "Epoch 500 \t Loss: 0.0877\n",
      "Accuracy: 100.0\n",
      "\n",
      "Epoch 600 \t Loss: 0.0695\n",
      "Accuracy: 100.0\n",
      "\n",
      "Epoch 700 \t Loss: 0.0566\n",
      "Accuracy: 100.0\n",
      "\n",
      "Epoch 800 \t Loss: 0.0472\n",
      "Accuracy: 100.0\n",
      "\n",
      "Epoch 900 \t Loss: 0.04\n",
      "Accuracy: 100.0\n",
      "\n",
      "Epoch 1000 \t Loss: 0.0344\n",
      "Accuracy: 100.0\n",
      "\n",
      "Epoch 1100 \t Loss: 0.0299\n",
      "Accuracy: 100.0\n",
      "\n",
      "Epoch 1200 \t Loss: 0.0263\n",
      "Accuracy: 100.0\n",
      "\n",
      "Epoch 1300 \t Loss: 0.0232\n",
      "Accuracy: 100.0\n",
      "\n",
      "Epoch 1400 \t Loss: 0.0207\n",
      "Accuracy: 100.0\n",
      "\n",
      "Epoch 1500 \t Loss: 0.0185\n",
      "Accuracy: 100.0\n",
      "\n",
      "Epoch 1600 \t Loss: 0.0167\n",
      "Accuracy: 100.0\n",
      "\n",
      "Epoch 1700 \t Loss: 0.0151\n",
      "Accuracy: 100.0\n",
      "\n",
      "Epoch 1800 \t Loss: 0.0137\n",
      "Accuracy: 100.0\n",
      "\n",
      "Epoch 1900 \t Loss: 0.0125\n",
      "Accuracy: 100.0\n",
      "\n",
      "Epoch 2000 \t Loss: 0.0114\n",
      "Accuracy: 100.0\n",
      "\n",
      "Epoch 2100 \t Loss: 0.0105\n",
      "Accuracy: 100.0\n",
      "\n",
      "Epoch 2200 \t Loss: 0.0097\n",
      "Accuracy: 100.0\n",
      "\n",
      "Epoch 2300 \t Loss: 0.0089\n",
      "Accuracy: 100.0\n",
      "\n",
      "Epoch 2400 \t Loss: 0.0082\n",
      "Accuracy: 100.0\n",
      "\n",
      "Epoch 2500 \t Loss: 0.0076\n",
      "Accuracy: 100.0\n",
      "\n",
      "Epoch 2600 \t Loss: 0.0071\n",
      "Accuracy: 100.0\n",
      "\n",
      "Epoch 2700 \t Loss: 0.0066\n",
      "Accuracy: 100.0\n",
      "\n",
      "Epoch 2800 \t Loss: 0.0061\n",
      "Accuracy: 100.0\n",
      "\n",
      "Epoch 2900 \t Loss: 0.0057\n",
      "Accuracy: 100.0\n",
      "\n",
      "Epoch 3000 \t Loss: 0.0053\n",
      "Accuracy: 100.0\n",
      "\n",
      "Epoch 3100 \t Loss: 0.005\n",
      "Accuracy: 100.0\n",
      "\n",
      "Epoch 3200 \t Loss: 0.0046\n",
      "Accuracy: 100.0\n",
      "\n",
      "Epoch 3300 \t Loss: 0.0043\n",
      "Accuracy: 100.0\n",
      "\n",
      "Epoch 3400 \t Loss: 0.0041\n",
      "Accuracy: 100.0\n",
      "\n",
      "Epoch 3500 \t Loss: 0.0038\n",
      "Accuracy: 100.0\n",
      "\n",
      "Epoch 3600 \t Loss: 0.0036\n",
      "Accuracy: 100.0\n",
      "\n",
      "Epoch 3700 \t Loss: 0.0034\n",
      "Accuracy: 100.0\n",
      "\n",
      "Epoch 3800 \t Loss: 0.0032\n",
      "Accuracy: 100.0\n",
      "\n",
      "Epoch 3900 \t Loss: 0.003\n",
      "Accuracy: 100.0\n",
      "\n",
      "Epoch 4000 \t Loss: 0.0028\n",
      "Accuracy: 100.0\n",
      "\n",
      "Epoch 4100 \t Loss: 0.0026\n",
      "Accuracy: 100.0\n",
      "\n",
      "Epoch 4200 \t Loss: 0.0025\n",
      "Accuracy: 100.0\n",
      "\n",
      "Epoch 4300 \t Loss: 0.0023\n",
      "Accuracy: 100.0\n",
      "\n",
      "Epoch 4400 \t Loss: 0.0022\n",
      "Accuracy: 100.0\n",
      "\n",
      "Epoch 4500 \t Loss: 0.0021\n",
      "Accuracy: 100.0\n",
      "\n",
      "Epoch 4600 \t Loss: 0.002\n",
      "Accuracy: 100.0\n",
      "\n",
      "Epoch 4700 \t Loss: 0.0019\n",
      "Accuracy: 100.0\n",
      "\n",
      "Epoch 4800 \t Loss: 0.0018\n",
      "Accuracy: 100.0\n",
      "\n",
      "Epoch 4900 \t Loss: 0.0017\n",
      "Accuracy: 100.0\n",
      "\n",
      "Epoch 5000 \t Loss: 0.0016\n",
      "Accuracy: 100.0\n",
      "\n",
      "Epoch 5100 \t Loss: 0.0015\n",
      "Accuracy: 100.0\n",
      "\n",
      "Epoch 5200 \t Loss: 0.0014\n",
      "Accuracy: 100.0\n",
      "\n",
      "Epoch 5300 \t Loss: 0.0013\n",
      "Accuracy: 100.0\n",
      "\n",
      "Epoch 5400 \t Loss: 0.0013\n",
      "Accuracy: 100.0\n",
      "\n",
      "Epoch 5500 \t Loss: 0.0012\n",
      "Accuracy: 100.0\n",
      "\n",
      "Epoch 5600 \t Loss: 0.0011\n",
      "Accuracy: 100.0\n",
      "\n",
      "Epoch 5700 \t Loss: 0.0011\n",
      "Accuracy: 100.0\n",
      "\n",
      "Epoch 5800 \t Loss: 0.001\n",
      "Accuracy: 100.0\n",
      "\n",
      "Epoch 5900 \t Loss: 0.001\n",
      "Accuracy: 100.0\n",
      "\n",
      "Epoch 6000 \t Loss: 0.0009\n",
      "Accuracy: 100.0\n",
      "\n",
      "Epoch 6100 \t Loss: 0.0009\n",
      "Accuracy: 100.0\n",
      "\n",
      "Epoch 6200 \t Loss: 0.0008\n",
      "Accuracy: 100.0\n",
      "\n",
      "Epoch 6300 \t Loss: 0.0008\n",
      "Accuracy: 100.0\n",
      "\n",
      "Epoch 6400 \t Loss: 0.0007\n",
      "Accuracy: 100.0\n",
      "\n",
      "Epoch 6500 \t Loss: 0.0007\n",
      "Accuracy: 100.0\n",
      "\n",
      "Epoch 6600 \t Loss: 0.0007\n",
      "Accuracy: 100.0\n",
      "\n",
      "Epoch 6700 \t Loss: 0.0006\n",
      "Accuracy: 100.0\n",
      "\n",
      "Epoch 6800 \t Loss: 0.0006\n",
      "Accuracy: 100.0\n",
      "\n",
      "Epoch 6900 \t Loss: 0.0006\n",
      "Accuracy: 100.0\n",
      "\n",
      "Epoch 7000 \t Loss: 0.0005\n",
      "Accuracy: 100.0\n",
      "\n",
      "Epoch 7100 \t Loss: 0.0005\n",
      "Accuracy: 100.0\n",
      "\n",
      "Epoch 7200 \t Loss: 0.0005\n",
      "Accuracy: 100.0\n",
      "\n",
      "Epoch 7300 \t Loss: 0.0005\n",
      "Accuracy: 100.0\n",
      "\n",
      "Epoch 7400 \t Loss: 0.0004\n",
      "Accuracy: 100.0\n",
      "\n",
      "Epoch 7500 \t Loss: 0.0004\n",
      "Accuracy: 100.0\n",
      "\n",
      "Epoch 7600 \t Loss: 0.0004\n",
      "Accuracy: 100.0\n",
      "\n",
      "Epoch 7700 \t Loss: 0.0004\n",
      "Accuracy: 100.0\n",
      "\n",
      "Epoch 7800 \t Loss: 0.0004\n",
      "Accuracy: 100.0\n",
      "\n",
      "Epoch 7900 \t Loss: 0.0003\n",
      "Accuracy: 100.0\n",
      "\n",
      "Epoch 8000 \t Loss: 0.0003\n",
      "Accuracy: 100.0\n",
      "\n",
      "Epoch 8100 \t Loss: 0.0003\n",
      "Accuracy: 100.0\n",
      "\n",
      "Epoch 8200 \t Loss: 0.0003\n",
      "Accuracy: 100.0\n",
      "\n",
      "Epoch 8300 \t Loss: 0.0003\n",
      "Accuracy: 100.0\n",
      "\n",
      "Epoch 8400 \t Loss: 0.0003\n",
      "Accuracy: 100.0\n",
      "\n",
      "Epoch 8500 \t Loss: 0.0003\n",
      "Accuracy: 100.0\n",
      "\n",
      "Epoch 8600 \t Loss: 0.0002\n",
      "Accuracy: 100.0\n",
      "\n",
      "Epoch 8700 \t Loss: 0.0002\n",
      "Accuracy: 100.0\n",
      "\n",
      "Epoch 8800 \t Loss: 0.0002\n",
      "Accuracy: 100.0\n",
      "\n",
      "Epoch 8900 \t Loss: 0.0002\n",
      "Accuracy: 100.0\n",
      "\n",
      "Epoch 9000 \t Loss: 0.0002\n",
      "Accuracy: 100.0\n",
      "\n",
      "Epoch 9100 \t Loss: 0.0002\n",
      "Accuracy: 100.0\n",
      "\n",
      "Epoch 9200 \t Loss: 0.0002\n",
      "Accuracy: 100.0\n",
      "\n",
      "Epoch 9300 \t Loss: 0.0002\n",
      "Accuracy: 100.0\n",
      "\n",
      "Epoch 9400 \t Loss: 0.0002\n",
      "Accuracy: 100.0\n",
      "\n",
      "Epoch 9500 \t Loss: 0.0002\n",
      "Accuracy: 100.0\n",
      "\n",
      "Epoch 9600 \t Loss: 0.0001\n",
      "Accuracy: 100.0\n",
      "\n",
      "Epoch 9700 \t Loss: 0.0001\n",
      "Accuracy: 100.0\n",
      "\n",
      "Epoch 9800 \t Loss: 0.0001\n",
      "Accuracy: 100.0\n",
      "\n",
      "Epoch 9900 \t Loss: 0.0001\n",
      "Accuracy: 100.0\n",
      "\n",
      "Epoch 10000 \t Loss: 0.0001\n",
      "Accuracy: 100.0\n",
      "Accuracy final: 100.0\n",
      "CPU times: total: 5min 54s\n",
      "Wall time: 2min 19s\n"
     ]
    }
   ],
   "source": [
    "%%time\n",
    "lr = 0.001\n",
    "epochs = 10000\n",
    "estatus_print = 100 #Se va a usar para imprimir el error cada 100 muestras\n",
    "\n",
    "model = Perceptron(n_entradas=n_entradas)\n",
    "loss_fn = nn.BCELoss()\n",
    "optimizer = torch.optim.Adam(params=model.parameters(), lr=lr) \n",
    "print(\"Arquitectura del modelo: {}\".format(model))\n",
    "historico = pd.DataFrame()\n",
    "\n",
    "print(\"Entranando el modelo\")\n",
    "for epoch in range(1, epochs+1):\n",
    "    y_pred= model.forward(t_X_train)\n",
    "    #y_pred = y_pred.round() No aprende la red con esta lineal de codigo\n",
    "    loss = loss_fn(input=y_pred, target=t_y_train)\n",
    "    loss.backward()\n",
    "    optimizer.step() #Calcular los nuevos pesos\n",
    "    optimizer.zero_grad() #No acumal los gradientes\n",
    "    \n",
    "    if epoch % estatus_print == 0:\n",
    "        print(f\"\\nEpoch {epoch} \\t Loss: {round(loss.item(), 4)}\")\n",
    "    \n",
    "    with torch.no_grad(): #No queremos que nuestros pesos se modifiquen\n",
    "        y_pred = model(t_X_test)\n",
    "        y_pred_class = y_pred.round()\n",
    "        correct = (y_pred_class == t_y_test).sum()\n",
    "        accuracy = 100 * correct / float(len(t_y_test))\n",
    "        if epoch % estatus_print == 0:\n",
    "            print(\"Accuracy: {}\".format(accuracy.item()))\n",
    "    \n",
    "    df_tmp = pd.DataFrame(data={\n",
    "        'Epoch': epoch,\n",
    "        'Loss': round(loss.item(), 4),\n",
    "        'Accuracy': round(accuracy.item(), 4)\n",
    "    }, index=[0])\n",
    "    historico = pd.concat(objs=[historico, df_tmp], ignore_index=True, sort=False)\n",
    "\n",
    "print(\"Accuracy final: {}\".format(round(accuracy.item(), 4)))"
   ]
  },
  {
   "cell_type": "code",
   "execution_count": 112,
   "id": "55776410",
   "metadata": {},
   "outputs": [
    {
     "data": {
      "image/png": "[encoded data removed]",
      "text/plain": [
       "<Figure size 1000x1000 with 1 Axes>"
      ]
     },
     "metadata": {},
     "output_type": "display_data"
    }
   ],
   "source": [
    "import matplotlib.pyplot as plt\n",
    "%matplotlib inline\n",
    "\n",
    "plt.figure(figsize=(10, 10))\n",
    "plt.plot(historico['Epoch'], historico['Loss'], label='Loss')\n",
    "plt.title(\"Loss\", fontsize=25)\n",
    "plt.xlabel(\"Epoch\", fontsize=12)\n",
    "plt.ylabel(\"Loss\", fontsize=12)\n",
    "plt.grid()\n",
    "plt.show()"
   ]
  },
  {
   "cell_type": "code",
   "execution_count": 113,
   "id": "be190c94",
   "metadata": {},
   "outputs": [
    {
     "data": {
      "image/png": "[encoded data removed]",
      "text/plain": [
       "<Figure size 1000x1000 with 1 Axes>"
      ]
     },
     "metadata": {},
     "output_type": "display_data"
    }
   ],
   "source": [
    "plt.figure(figsize=(10, 10))\n",
    "plt.plot(historico['Epoch'], historico['Accuracy'], label='Accuracy')\n",
    "plt.title(\"Accuracy\", fontsize=25)\n",
    "plt.xlabel(\"Epoch\", fontsize=12)\n",
    "plt.ylabel(\"Accuracy\", fontsize=12)\n",
    "plt.grid()\n",
    "plt.show()"
   ]
  },
  {
   "cell_type": "markdown",
   "id": "67f3bd9f",
   "metadata": {},
   "source": [
    "### Predicciones"
   ]
  },
  {
   "cell_type": "code",
   "execution_count": 114,
   "id": "85951a7e",
   "metadata": {},
   "outputs": [
    {
     "data": {
      "text/plain": [
       "tensor([-1.0424, -1.3743, -0.4046, -0.8221, -0.7084])"
      ]
     },
     "execution_count": 114,
     "metadata": {},
     "output_type": "execute_result"
    }
   ],
   "source": [
    "t_X_test[5]"
   ]
  },
  {
   "cell_type": "code",
   "execution_count": 118,
   "id": "6ab882c2",
   "metadata": {},
   "outputs": [
    {
     "name": "stdout",
     "output_type": "stream",
     "text": [
      "tensor([1.], grad_fn=<RoundBackward0>)\n"
     ]
    }
   ],
   "source": [
    "prediccion = model(t_X_test[5])\n",
    "print(prediccion.round())"
   ]
  },
  {
   "cell_type": "code",
   "execution_count": 124,
   "id": "266d2cb5",
   "metadata": {},
   "outputs": [],
   "source": [
    "t_y_pred = model(t_X_test).round()"
   ]
  },
  {
   "cell_type": "code",
   "execution_count": 127,
   "id": "92e8722b",
   "metadata": {},
   "outputs": [
    {
     "name": "stdout",
     "output_type": "stream",
     "text": [
      "              precision    recall  f1-score   support\n",
      "\n",
      "     class 0       1.00      1.00      1.00       147\n",
      "     class 1       1.00      1.00      1.00       138\n",
      "\n",
      "    accuracy                           1.00       285\n",
      "   macro avg       1.00      1.00      1.00       285\n",
      "weighted avg       1.00      1.00      1.00       285\n",
      "\n"
     ]
    }
   ],
   "source": [
    "target_names = ['class 0', 'class 1']\n",
    "print(classification_report(t_y_test.detach().numpy(), t_y_pred.detach().numpy(), target_names=target_names))"
   ]
  },
  {
   "cell_type": "code",
   "execution_count": 128,
   "id": "f4195430",
   "metadata": {},
   "outputs": [
    {
     "name": "stdout",
     "output_type": "stream",
     "text": [
      "[[147   0]\n",
      " [  0 138]]\n"
     ]
    }
   ],
   "source": [
    "print(confusion_matrix(t_y_test.detach().numpy(), t_y_pred.detach().numpy()))"
   ]
  },
  {
   "cell_type": "code",
   "execution_count": 129,
   "id": "c6ab9a17",
   "metadata": {},
   "outputs": [],
   "source": [
    "from sklearn.metrics import roc_curve"
   ]
  },
  {
   "cell_type": "code",
   "execution_count": 131,
   "id": "ae7d9e62",
   "metadata": {},
   "outputs": [],
   "source": [
    "fpr, tpr, thresholds = roc_curve(t_y_test.detach().numpy(), t_y_pred.detach().numpy())"
   ]
  },
  {
   "cell_type": "code",
   "execution_count": 137,
   "id": "2626c03f",
   "metadata": {},
   "outputs": [
    {
     "name": "stdout",
     "output_type": "stream",
     "text": [
      "[0. 0. 1.] [0. 1. 1.]\n"
     ]
    }
   ],
   "source": [
    "print(fpr,tpr)"
   ]
  },
  {
   "cell_type": "code",
   "execution_count": 140,
   "id": "42fa0a73",
   "metadata": {},
   "outputs": [
    {
     "data": {
      "image/png": "[encoded data removed]",
      "text/plain": [
       "<Figure size 640x480 with 1 Axes>"
      ]
     },
     "metadata": {},
     "output_type": "display_data"
    }
   ],
   "source": [
    "plt.plot(fpr, tpr)\n",
    "plt.plot([0, 1], [0, 1], linestyle='--')\n",
    "plt.xlim([-0.25, 1.25])\n",
    "plt.ylim([-0.25, 1.25])\n",
    "plt.xlabel('1 - specificity')\n",
    "plt.ylabel('sensitivity')\n",
    "plt.show()"
   ]
  },
  {
   "cell_type": "code",
   "execution_count": null,
   "id": "6d2b61bc",
   "metadata": {},
   "outputs": [],
   "source": []
  }
 ],
 "metadata": {
  "kernelspec": {
   "display_name": "Python 3 (ipykernel)",
   "language": "python",
   "name": "python3"
  },
  "language_info": {
   "codemirror_mode": {
    "name": "ipython",
    "version": 3
   },
   "file_extension": ".py",
   "mimetype": "text/x-python",
   "name": "python",
   "nbconvert_exporter": "python",
   "pygments_lexer": "ipython3",
   "version": "3.9.12"
  }
 },
 "nbformat": 4,
 "nbformat_minor": 5
}
